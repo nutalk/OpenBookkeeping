{
 "cells": [
  {
   "cell_type": "code",
   "execution_count": 23,
   "id": "2e24bad1-1db4-4338-a7f5-d3a18f497988",
   "metadata": {},
   "outputs": [],
   "source": [
    "import numpy as np\n",
    "from pathlib import Path\n",
    "import matplotlib.pyplot as plt\n",
    "import json\n",
    "import pandas as pd\n",
    "from loguru import logger\n",
    "import csv\n",
    "import re\n",
    "\n",
    "from OpenBookkeeping.sql_db import query_by_col, update_by_col, add_detail, del_by_col, query_table, query_by_str\n",
    "\n",
    "from OpenBookkeeping.gloab_info import prop_type_items, liability_currency_types"
   ]
  },
  {
   "cell_type": "code",
   "execution_count": 10,
   "id": "c7d41d6b-e6f7-4f73-9d90-efb5a1447233",
   "metadata": {},
   "outputs": [],
   "source": [
    "db_path = \"E:\\\\nextcloud\\\\use.bk\"\n",
    "\n",
    "query_str = \"\"\"\n",
    "        select type, name, start_date, term_month, rate, currency, ctype, sum(amount) from prop \n",
    "        LEFT outer join prop_details\n",
    "        on prop.id = prop_details.target_id group by name;\n",
    "        \"\"\""
   ]
  },
  {
   "cell_type": "code",
   "execution_count": 12,
   "id": "13fc2ece-a08f-44ce-9158-babf7944904e",
   "metadata": {},
   "outputs": [
    {
     "name": "stderr",
     "output_type": "stream",
     "text": [
      "\u001b[32m2024-01-22 16:56:40.537\u001b[0m | \u001b[34m\u001b[1mDEBUG   \u001b[0m | \u001b[36mOpenBookkeeping.sql_db\u001b[0m:\u001b[36mquery_by_str\u001b[0m:\u001b[36m137\u001b[0m - \u001b[34m\u001b[1msql_str='\\n        select type, name, start_date, term_month, rate, currency, ctype, sum(amount) from prop \\n        LEFT outer join prop_details\\n        on prop.id = prop_details.target_id group by name;\\n        '\u001b[0m\n"
     ]
    }
   ],
   "source": [
    "props = query_by_str(db_path, query_str)"
   ]
  },
  {
   "cell_type": "code",
   "execution_count": 24,
   "id": "f5cbe048-3a8e-4180-b3f1-9ff5a174055d",
   "metadata": {},
   "outputs": [],
   "source": [
    "prop_df = pd.DataFrame(props, columns=['type', 'name', 'start_date', 'term_month', 'rate', 'currency', 'ctype', 'sum_amount'])\n",
    "prop_df.fillna(0, inplace=True)\n",
    "prop_df['type_cn'] = prop_df['type'].apply(lambda x: prop_type_items[x])"
   ]
  },
  {
   "cell_type": "code",
   "execution_count": 41,
   "id": "b01d033a-a956-40e7-af6f-61304b10ef2d",
   "metadata": {},
   "outputs": [
    {
     "name": "stdout",
     "output_type": "stream",
     "text": [
      "('固定资产',     name type_cn  sum_amount\n",
      "0  2B801    固定资产   5000000.0\n",
      "1  42001    固定资产   7500000.0\n",
      "5   何-工资    固定资产         0.0\n",
      "6   姜-工资    固定资产         0.0\n",
      "8   对外债权    固定资产     15600.0)\n",
      "('流动资产',        name type_cn  sum_amount\n",
      "4     中行-活期    流动资产       105.0\n",
      "11    建行-活期    流动资产      6609.0\n",
      "15  建行对公-活期    流动资产      2580.0\n",
      "17    招行-活期    流动资产      5255.0\n",
      "19    支付宝基金    流动资产     10370.0)\n",
      "('短期负债',         name type_cn  sum_amount\n",
      "2     jy-园丁贷    短期负债         0.0\n",
      "3   jy-建行消费贷    短期负债         0.0\n",
      "10    建行-抵押贷    短期负债   1560000.0\n",
      "12    建行-消费贷    短期负债         0.0\n",
      "16    招行-信用卡    短期负债         0.0\n",
      "18    招行-消费贷    短期负债    200000.0\n",
      "20    浦发-信用卡    短期负债         0.0)\n",
      "('长期负债',          name type_cn  sum_amount\n",
      "7       姜家备用金    长期负债         0.0\n",
      "9    工行2001房贷    长期负债   2530000.0\n",
      "13  建行801公积金贷    长期负债    400000.0\n",
      "14    建行801房贷    长期负债    616551.0\n",
      "21        生活费    长期负债         0.0)\n"
     ]
    }
   ],
   "source": [
    "groups = prop_df[['name','type_cn', 'sum_amount']].groupby('type_cn')\n",
    "for g in groups:\n",
    "    print(g)"
   ]
  },
  {
   "cell_type": "code",
   "execution_count": 33,
   "id": "3dbf3080-d6ac-47bc-a183-3ddc620e25fb",
   "metadata": {},
   "outputs": [
    {
     "name": "stdout",
     "output_type": "stream",
     "text": [
      "资产:1254.0519万, 负债530.6551万，净值723.3968万\n"
     ]
    }
   ],
   "source": [
    "as_amount = np.sum(prop_df[prop_df['type'] <= 1]['sum_amount'])\n",
    "de_amount = np.sum(prop_df[prop_df['type'] >= 2]['sum_amount'])\n",
    "ne_amount = as_amount - de_amount\n",
    "print(f'资产:{as_amount/10000}万, 负债{de_amount/10000}万，净值{ne_amount/10000}万')"
   ]
  },
  {
   "cell_type": "code",
   "execution_count": 36,
   "id": "b8fccd99-8a2f-42e3-83b1-2e83f857c32c",
   "metadata": {},
   "outputs": [],
   "source": [
    "as_df = prop_df[prop_df['type'] <= 1]\n",
    "de_df = prop_df[prop_df['type'] >= 2]"
   ]
  }
 ],
 "metadata": {
  "kernelspec": {
   "display_name": "Python 3 (ipykernel)",
   "language": "python",
   "name": "python3"
  },
  "language_info": {
   "codemirror_mode": {
    "name": "ipython",
    "version": 3
   },
   "file_extension": ".py",
   "mimetype": "text/x-python",
   "name": "python",
   "nbconvert_exporter": "python",
   "pygments_lexer": "ipython3",
   "version": "3.10.12"
  }
 },
 "nbformat": 4,
 "nbformat_minor": 5
}
